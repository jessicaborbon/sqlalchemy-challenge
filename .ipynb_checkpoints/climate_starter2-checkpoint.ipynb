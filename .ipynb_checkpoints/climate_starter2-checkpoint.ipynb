{
 "cells": [
  {
   "cell_type": "code",
   "execution_count": 2,
   "metadata": {},
   "outputs": [],
   "source": [
    "%matplotlib inline\n",
    "from matplotlib import style\n",
    "style.use('fivethirtyeight')\n",
    "import matplotlib.pyplot as plt"
   ]
  },
  {
   "cell_type": "code",
   "execution_count": 121,
   "metadata": {},
   "outputs": [],
   "source": [
    "%matplotlib inline\n",
    "from matplotlib import style\n",
    "style.use('fivethirtyeight')\n",
    "import matplotlib.pyplot as plt\n",
    "import matplotlib.dates as mdates"
   ]
  },
  {
   "cell_type": "code",
   "execution_count": 123,
   "metadata": {},
   "outputs": [],
   "source": [
    "import numpy as np\n",
    "import pandas as pd\n",
    "import datetime as dt"
   ]
  },
  {
   "cell_type": "markdown",
   "metadata": {},
   "source": [
    "# Reflect Tables into SQLAlchemy ORM"
   ]
  },
  {
   "cell_type": "code",
   "execution_count": 126,
   "metadata": {},
   "outputs": [],
   "source": [
    "# Python SQL toolkit and Object Relational Mapper\n",
    "import sqlalchemy\n",
    "from sqlalchemy.ext.automap import automap_base\n",
    "from sqlalchemy.orm import Session\n",
    "from sqlalchemy import create_engine, func, desc\n",
    "Base = automap_base()"
   ]
  },
  {
   "cell_type": "code",
   "execution_count": 128,
   "metadata": {},
   "outputs": [],
   "source": [
    "# create engine to hawaii.sqlite\n",
    "engine = create_engine(\"sqlite:///Resources/hawaii.sqlite\")\n",
    "path = \"/Users/jessicaborbon/sqlalchemy-challenge/hawaii.sqlite\""
   ]
  },
  {
   "cell_type": "code",
   "execution_count": 1,
   "metadata": {},
   "outputs": [
    {
     "ename": "NameError",
     "evalue": "name 'Base' is not defined",
     "output_type": "error",
     "traceback": [
      "\u001b[0;31m---------------------------------------------------------------------------\u001b[0m",
      "\u001b[0;31mNameError\u001b[0m                                 Traceback (most recent call last)",
      "Cell \u001b[0;32mIn[1], line 2\u001b[0m\n\u001b[1;32m      1\u001b[0m \u001b[38;5;66;03m# reflect an existing database into a new model\u001b[39;00m\n\u001b[0;32m----> 2\u001b[0m \u001b[43mBase\u001b[49m\u001b[38;5;241m.\u001b[39mprepare(autoload_with\u001b[38;5;241m=\u001b[39mengine)\n\u001b[1;32m      3\u001b[0m \u001b[38;5;66;03m# reflect the tables\u001b[39;00m\n\u001b[1;32m      4\u001b[0m Base\u001b[38;5;241m.\u001b[39mprepare(engine, reflect\u001b[38;5;241m=\u001b[39m\u001b[38;5;28;01mTrue\u001b[39;00m)\n",
      "\u001b[0;31mNameError\u001b[0m: name 'Base' is not defined"
     ]
    }
   ],
   "source": [
    "# reflect an existing database into a new model\n",
    "Base.prepare(autoload_with=engine)\n",
    "# reflect the tables\n",
    "Base.prepare(engine, reflect=True)"
   ]
  },
  {
   "cell_type": "code",
   "execution_count": 3,
   "metadata": {},
   "outputs": [
    {
     "ename": "NameError",
     "evalue": "name 'Base' is not defined",
     "output_type": "error",
     "traceback": [
      "\u001b[0;31m---------------------------------------------------------------------------\u001b[0m",
      "\u001b[0;31mNameError\u001b[0m                                 Traceback (most recent call last)",
      "Cell \u001b[0;32mIn[3], line 2\u001b[0m\n\u001b[1;32m      1\u001b[0m \u001b[38;5;66;03m# View all of the classes that automap found\u001b[39;00m\n\u001b[0;32m----> 2\u001b[0m \u001b[43mBase\u001b[49m\u001b[38;5;241m.\u001b[39mclasses\u001b[38;5;241m.\u001b[39mkeys()\n",
      "\u001b[0;31mNameError\u001b[0m: name 'Base' is not defined"
     ]
    }
   ],
   "source": [
    "# View all of the classes that automap found\n",
    "Base.classes.keys()"
   ]
  },
  {
   "cell_type": "code",
   "execution_count": 5,
   "metadata": {},
   "outputs": [
    {
     "ename": "NameError",
     "evalue": "name 'Base' is not defined",
     "output_type": "error",
     "traceback": [
      "\u001b[0;31m---------------------------------------------------------------------------\u001b[0m",
      "\u001b[0;31mNameError\u001b[0m                                 Traceback (most recent call last)",
      "Cell \u001b[0;32mIn[5], line 2\u001b[0m\n\u001b[1;32m      1\u001b[0m \u001b[38;5;66;03m# Save references to each table\u001b[39;00m\n\u001b[0;32m----> 2\u001b[0m measurement \u001b[38;5;241m=\u001b[39m \u001b[43mBase\u001b[49m\u001b[38;5;241m.\u001b[39mclasses\u001b[38;5;241m.\u001b[39mmeasurement\n",
      "\u001b[0;31mNameError\u001b[0m: name 'Base' is not defined"
     ]
    }
   ],
   "source": [
    "# Save references to each table\n",
    "measurement = Base.classes.measurement"
   ]
  },
  {
   "cell_type": "code",
   "execution_count": 16,
   "metadata": {},
   "outputs": [],
   "source": [
    "# Create our session (link) from Python to the DB\n",
    "session = Session(engine)"
   ]
  },
  {
   "cell_type": "markdown",
   "metadata": {},
   "source": [
    "# Exploratory Precipitation Analysis"
   ]
  },
  {
   "cell_type": "code",
   "execution_count": 18,
   "metadata": {},
   "outputs": [],
   "source": [
    "# Find the most recent date in the data set.\n",
    "last_date = session.query(func.max(measurement.date)).first()[0]"
   ]
  },
  {
   "cell_type": "code",
   "execution_count": 116,
   "metadata": {},
   "outputs": [
    {
     "ename": "NameError",
     "evalue": "name 'mdates' is not defined",
     "output_type": "error",
     "traceback": [
      "\u001b[0;31m---------------------------------------------------------------------------\u001b[0m",
      "\u001b[0;31mNameError\u001b[0m                                 Traceback (most recent call last)",
      "Cell \u001b[0;32mIn[116], line 30\u001b[0m\n\u001b[1;32m     28\u001b[0m \u001b[38;5;66;03m# Set the custom x-axis tick positions\u001b[39;00m\n\u001b[1;32m     29\u001b[0m custom_dates \u001b[38;5;241m=\u001b[39m [\u001b[38;5;124m'\u001b[39m\u001b[38;5;124m2016-08-23\u001b[39m\u001b[38;5;124m'\u001b[39m, \u001b[38;5;124m'\u001b[39m\u001b[38;5;124m2016-10-01\u001b[39m\u001b[38;5;124m'\u001b[39m, \u001b[38;5;124m'\u001b[39m\u001b[38;5;124m2016-11-09\u001b[39m\u001b[38;5;124m'\u001b[39m, \u001b[38;5;124m'\u001b[39m\u001b[38;5;124m2016-12-19\u001b[39m\u001b[38;5;124m'\u001b[39m, \u001b[38;5;124m'\u001b[39m\u001b[38;5;124m2017-01-28\u001b[39m\u001b[38;5;124m'\u001b[39m, \u001b[38;5;124m'\u001b[39m\u001b[38;5;124m2017-03-09\u001b[39m\u001b[38;5;124m'\u001b[39m, \u001b[38;5;124m'\u001b[39m\u001b[38;5;124m2017-04-18\u001b[39m\u001b[38;5;124m'\u001b[39m, \u001b[38;5;124m'\u001b[39m\u001b[38;5;124m2017-05-31\u001b[39m\u001b[38;5;124m'\u001b[39m, \u001b[38;5;124m'\u001b[39m\u001b[38;5;124m2017-07-10\u001b[39m\u001b[38;5;124m'\u001b[39m]\n\u001b[0;32m---> 30\u001b[0m ax\u001b[38;5;241m.\u001b[39mxaxis\u001b[38;5;241m.\u001b[39mset_major_locator(\u001b[43mmdates\u001b[49m\u001b[38;5;241m.\u001b[39mDayLocator(interval\u001b[38;5;241m=\u001b[39m\u001b[38;5;241m30\u001b[39m))  \u001b[38;5;66;03m# Adjust interval as needed\u001b[39;00m\n\u001b[1;32m     31\u001b[0m ax\u001b[38;5;241m.\u001b[39mset_xticklabels(custom_dates)\n\u001b[1;32m     33\u001b[0m \u001b[38;5;66;03m# Use DateFormatter to format the custom tick labels\u001b[39;00m\n",
      "\u001b[0;31mNameError\u001b[0m: name 'mdates' is not defined"
     ]
    },
    {
     "data": {
      "image/png": "[encoded data removed]",
      "text/plain": [
       "<Figure size 640x480 with 1 Axes>"
      ]
     },
     "metadata": {},
     "output_type": "display_data"
    }
   ],
   "source": [
    "# Design a query to retrieve the last 12 months of precipitation data and plot the results. \n",
    "# Starting from the most recent data point in the database. \n",
    "last_date_str = session.query(measurement.date).order_by(desc(measurement.date)).first()[0]\n",
    "last_date = dt.datetime.strptime(last_date_str, '%Y-%m-%d').date()\n",
    "one_year_ago = last_date - dt.timedelta(days=365)\n",
    "\n",
    "# Query to retrieve the last 12 months of precipitation data\n",
    "query = (session.query(measurement.date, measurement.prcp)\n",
    "         .filter(measurement.date >= one_year_ago)\n",
    "         .order_by(measurement.date))\n",
    "\n",
    "data = query.all()\n",
    "\n",
    "# Save the query results as a Pandas DataFrame. Explicitly set the column names\n",
    "columns = ['date', 'precipitation']\n",
    "df = pd.DataFrame(data, columns=columns)\n",
    "\n",
    "# Sort the DataFrame by date\n",
    "df['date'] = pd.to_datetime(df['date'], errors='coerce')\n",
    "df = df.sort_values('date').set_index('date')\n",
    "\n",
    "# Use Pandas Plotting with Matplotlib to plot the data\n",
    "ax = df.plot(xlabel='Date', ylabel='Inches')\n",
    "\n",
    "# Rotate the x tick labels for better readability\n",
    "plt.xticks(rotation=90)\n",
    "\n",
    "# Set the custom x-axis tick positions\n",
    "custom_dates = ['2016-08-23', '2016-10-01', '2016-11-09', '2016-12-19', '2017-01-28', '2017-03-09', '2017-04-18', '2017-05-31', '2017-07-10']\n",
    "ax.xaxis.set_major_locator(mdates.DayLocator(interval=30))  # Adjust interval as needed\n",
    "ax.set_xticklabels(custom_dates)\n",
    "\n",
    "# Use DateFormatter to format the custom tick labels\n",
    "date_format = \"%Y-%m-%d\"\n",
    "ax.xaxis.set_major_formatter(mdates.DateFormatter(date_format))\n",
    "\n",
    "# Show legend in the upper right\n",
    "plt.legend(loc='upper right')\n",
    "\n",
    "# Show the plot\n",
    "plt.tight_layout()\n",
    "\n",
    "# Save the plot\n",
    "plt.savefig(\"/Users/jessicaborbon/sqlalchemy-challenge/output/Fig_1.png\")\n",
    "plt.show()"
   ]
  },
  {
   "cell_type": "code",
   "execution_count": 60,
   "metadata": {},
   "outputs": [
    {
     "data": {
      "text/html": [
       "<div>\n",
       "<style scoped>\n",
       "    .dataframe tbody tr th:only-of-type {\n",
       "        vertical-align: middle;\n",
       "    }\n",
       "\n",
       "    .dataframe tbody tr th {\n",
       "        vertical-align: top;\n",
       "    }\n",
       "\n",
       "    .dataframe thead th {\n",
       "        text-align: right;\n",
       "    }\n",
       "</style>\n",
       "<table border=\"1\" class=\"dataframe\">\n",
       "  <thead>\n",
       "    <tr style=\"text-align: right;\">\n",
       "      <th></th>\n",
       "      <th>precipitation</th>\n",
       "    </tr>\n",
       "  </thead>\n",
       "  <tbody>\n",
       "    <tr>\n",
       "      <th>count</th>\n",
       "      <td>2021.000000</td>\n",
       "    </tr>\n",
       "    <tr>\n",
       "      <th>mean</th>\n",
       "      <td>0.177279</td>\n",
       "    </tr>\n",
       "    <tr>\n",
       "      <th>std</th>\n",
       "      <td>0.461190</td>\n",
       "    </tr>\n",
       "    <tr>\n",
       "      <th>min</th>\n",
       "      <td>0.000000</td>\n",
       "    </tr>\n",
       "    <tr>\n",
       "      <th>25%</th>\n",
       "      <td>0.000000</td>\n",
       "    </tr>\n",
       "    <tr>\n",
       "      <th>50%</th>\n",
       "      <td>0.020000</td>\n",
       "    </tr>\n",
       "    <tr>\n",
       "      <th>75%</th>\n",
       "      <td>0.130000</td>\n",
       "    </tr>\n",
       "    <tr>\n",
       "      <th>max</th>\n",
       "      <td>6.700000</td>\n",
       "    </tr>\n",
       "  </tbody>\n",
       "</table>\n",
       "</div>"
      ],
      "text/plain": [
       "       precipitation\n",
       "count    2021.000000\n",
       "mean        0.177279\n",
       "std         0.461190\n",
       "min         0.000000\n",
       "25%         0.000000\n",
       "50%         0.020000\n",
       "75%         0.130000\n",
       "max         6.700000"
      ]
     },
     "execution_count": 60,
     "metadata": {},
     "output_type": "execute_result"
    }
   ],
   "source": [
    "# Use Pandas to calculate the summary statistics for the precipitation data\n",
    "df.describe()"
   ]
  },
  {
   "cell_type": "markdown",
   "metadata": {},
   "source": [
    "# Exploratory Station Analysis"
   ]
  },
  {
   "cell_type": "code",
   "execution_count": 12,
   "metadata": {},
   "outputs": [
    {
     "data": {
      "text/plain": [
       "[(9,)]"
      ]
     },
     "execution_count": 12,
     "metadata": {},
     "output_type": "execute_result"
    }
   ],
   "source": [
    "# Design a query to calculate the total number of stations in the dataset\n",
    "session.query(measurement.station).distinct().count()"
   ]
  },
  {
   "cell_type": "code",
   "execution_count": 84,
   "metadata": {},
   "outputs": [
    {
     "name": "stdout",
     "output_type": "stream",
     "text": [
      "{'USC00519281'} {2772}\n",
      "{'USC00519397'} {2724}\n",
      "{'USC00513117'} {2709}\n",
      "{'USC00519523'} {2669}\n",
      "{'USC00516128'} {2612}\n",
      "{'USC00514830'} {2202}\n",
      "{'USC00511918'} {1979}\n",
      "{'USC00517948'} {1372}\n",
      "{'USC00518838'} {511}\n"
     ]
    }
   ],
   "source": [
    "# Design a query to find the most active stations (i.e. which stations have the most rows?)\n",
    "# List the stations and their counts in descending order.\n",
    "query = (session.query(measurement.station, func.count(measurement.id).label('count'))\n",
    "         .group_by(measurement.station)\n",
    "         .order_by(desc('count')))\n",
    "# Execute the query and fetch all results\n",
    "active_stations = query.all()\n",
    "# Print the results\n",
    "for station, count in active_stations:\n",
    "    print({station}, {count})"
   ]
  },
  {
   "cell_type": "code",
   "execution_count": 92,
   "metadata": {},
   "outputs": [
    {
     "name": "stdout",
     "output_type": "stream",
     "text": [
      "54.0, 85.0, 71.66378066378067\n"
     ]
    }
   ],
   "source": [
    "# Using the most active station id from the previous query, calculate the lowest, highest, and average temperature.\n",
    "most_active_station = query.first()[0]\n",
    "# Query to calculate the lowest, highest, and average temperature for the most active station\n",
    "temperature_query = (session.query(\n",
    "    func.min(measurement.tobs).label('min_temp'),\n",
    "    func.max(measurement.tobs).label('max_temp'),\n",
    "    func.avg(measurement.tobs).label('avg_temp'))\n",
    "    .filter(measurement.station == most_active_station))\n",
    "\n",
    "# Execute the query and fetch the results\n",
    "temperature_stats = temperature_query.one()\n",
    "\n",
    "# Print the results using the format method\n",
    "print(\"{}, {}, {}\".format(temperature_stats.min_temp, temperature_stats.max_temp, temperature_stats.avg_temp))"
   ]
  },
  {
   "cell_type": "code",
   "execution_count": 112,
   "metadata": {},
   "outputs": [
    {
     "data": {
      "image/png": "[encoded data removed]",
      "text/plain": [
       "<Figure size 1000x600 with 1 Axes>"
      ]
     },
     "metadata": {},
     "output_type": "display_data"
    }
   ],
   "source": [
    "# Using the most active station id\n",
    "# Query the last 12 months of temperature observation data for this station and plot the results as a histogram\n",
    "\n",
    "most_active_station_query = (session.query(measurement.station, func.count(measurement.id).label('count'))\n",
    "                             .group_by(measurement.station)\n",
    "                             .order_by(desc('count')))\n",
    "\n",
    "# Execute the query and fetch the most active station\n",
    "most_active_station = most_active_station_query.first()[0]\n",
    "\n",
    "# Calculate the date one year ago from the last date in the dataset\n",
    "last_date_str = session.query(measurement.date).order_by(desc(measurement.date)).first()[0]\n",
    "last_date = dt.datetime.strptime(last_date_str, '%Y-%m-%d').date()\n",
    "one_year_ago = last_date - dt.timedelta(days=365)\n",
    "\n",
    "# Query the last 12 months of temperature observation data for the most active station\n",
    "temperature_query = (session.query(measurement.date, measurement.tobs)\n",
    "                     .filter(measurement.station == most_active_station)\n",
    "                     .filter(measurement.date >= one_year_ago)\n",
    "                     .order_by(measurement.date))\n",
    "\n",
    "temperature_data = temperature_query.all()\n",
    "\n",
    "# Save the query results as a Pandas DataFrame\n",
    "df = pd.DataFrame(temperature_data, columns=['date', 'temperature'])\n",
    "\n",
    "# Plot the results as a histogram\n",
    "plt.figure(figsize=(10, 6))\n",
    "plt.hist(df['temperature'], bins=12, edgecolor='black')\n",
    "plt.xlabel('Temperature (F)')\n",
    "plt.ylabel('Frequency')\n",
    "plt.title('Temperature Observations for the Most Active Station Over the Last 12 Months')\n",
    "plt.grid(True)\n",
    "\n",
    "# Save the plot\n",
    "plt.savefig(\"/Users/jessicaborbon/sqlalchemy-challenge/output/Fig_2.png\")\n",
    "\n",
    "# Show the plot\n",
    "\n",
    "plt.show()"
   ]
  },
  {
   "cell_type": "markdown",
   "metadata": {},
   "source": [
    "# Close Session"
   ]
  },
  {
   "cell_type": "code",
   "execution_count": 100,
   "metadata": {},
   "outputs": [],
   "source": [
    "# Close Session\n",
    "session.close()"
   ]
  },
  {
   "cell_type": "code",
   "execution_count": null,
   "metadata": {},
   "outputs": [],
   "source": []
  }
 ],
 "metadata": {
  "anaconda-cloud": {},
  "kernel_info": {
   "name": "python3"
  },
  "kernelspec": {
   "display_name": "Python 3 (ipykernel)",
   "language": "python",
   "name": "python3"
  },
  "language_info": {
   "codemirror_mode": {
    "name": "ipython",
    "version": 3
   },
   "file_extension": ".py",
   "mimetype": "text/x-python",
   "name": "python",
   "nbconvert_exporter": "python",
   "pygments_lexer": "ipython3",
   "version": "3.10.14"
  },
  "nteract": {
   "version": "0.12.3"
  },
  "varInspector": {
   "cols": {
    "lenName": 16,
    "lenType": 16,
    "lenVar": 40
   },
   "kernels_config": {
    "python": {
     "delete_cmd_postfix": "",
     "delete_cmd_prefix": "del ",
     "library": "var_list.py",
     "varRefreshCmd": "print(var_dic_list())"
    },
    "r": {
     "delete_cmd_postfix": ") ",
     "delete_cmd_prefix": "rm(",
     "library": "var_list.r",
     "varRefreshCmd": "cat(var_dic_list()) "
    }
   },
   "types_to_exclude": [
    "module",
    "function",
    "builtin_function_or_method",
    "instance",
    "_Feature"
   ],
   "window_display": false
  }
 },
 "nbformat": 4,
 "nbformat_minor": 4
}
